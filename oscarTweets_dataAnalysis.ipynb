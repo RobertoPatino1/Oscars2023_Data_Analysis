{
 "cells": [
  {
   "cell_type": "code",
   "execution_count": null,
   "id": "f30cc835",
   "metadata": {},
   "outputs": [],
   "source": [
    "import numpy as np\n",
    "import matplotlib.pyplot as plt\n",
    "import pandas as pd\n",
    "from collections import Counter\n",
    "import tweepy"
   ]
  },
  {
   "cell_type": "code",
   "execution_count": null,
   "id": "ee6b3ffc",
   "metadata": {},
   "outputs": [],
   "source": [
    "import nltk.corpus\n",
    "nltk.download('stopwords')\n",
    "from nltk.corpus import stopwords"
   ]
  },
  {
   "cell_type": "code",
   "execution_count": null,
   "id": "7c7e0022",
   "metadata": {},
   "outputs": [],
   "source": [
    "#Extracting a dataframe from csv file\n",
    "dataframe = pd.read_csv(\"oscars2023_tweets.csv\",sep = \"|\",header=None,skiprows=[0])\n"
   ]
  },
  {
   "cell_type": "code",
   "execution_count": null,
   "id": "7f453b73",
   "metadata": {},
   "outputs": [],
   "source": [
    "#Cleaning the dataframe from stop words...\n",
    "stop_words = set(stopwords.words('english'))\n",
    "#Custom stop words\n",
    "custom_stop_words = ['the', 'a ','yes', 'me', 'me?', 'in', 'it', 'that', 'of', 'we\\'ve', 'after', 'might','their','his','this']\n",
    "\n",
    "stop_words = stop_words.union(custom_stop_words)\n",
    "\n",
    "dataframe[1] = dataframe[1].apply(lambda x: ' '.join([word for word in x.split() if word not in stop_words]))\n"
   ]
  },
  {
   "cell_type": "code",
   "execution_count": null,
   "id": "b645e582",
   "metadata": {},
   "outputs": [],
   "source": [
    "#Getting the frequency of each word\n",
    "word_frequency_series = pd.Series(' '.join(dataframe[1]).lower().split()).value_counts()"
   ]
  },
  {
   "cell_type": "code",
   "execution_count": null,
   "id": "ad63470e",
   "metadata": {},
   "outputs": [],
   "source": [
    "# Converting the series into a dataframe\n",
    "words_df = pd.DataFrame({'Word':word_frequency_series.index, 'Frequency':word_frequency_series.values})\n",
    "print(words_df)"
   ]
  },
  {
   "cell_type": "code",
   "execution_count": null,
   "id": "52af656a",
   "metadata": {},
   "outputs": [],
   "source": [
    "# Finding keywords in the frequency dataset (hashtags, @users, etc) as a dictionary (key: word, value: frequency)\n",
    "hashtag_keywords = {}\n",
    "at_keywords = {}\n",
    "for i in range(len(words_df['Word'])):\n",
    "    word = words_df['Word'][i]\n",
    "    if ('@' in word):\n",
    "        at_keywords[word] =  words_df[\"Frequency\"][i]\n",
    "    elif('#' in word):\n",
    "        hashtag_keywords[word] =  words_df[\"Frequency\"][i]"
   ]
  },
  {
   "cell_type": "code",
   "execution_count": null,
   "id": "f50d95d8",
   "metadata": {},
   "outputs": [],
   "source": [
    "# Now we can create a dataframe with the obtained dictionaries for both ats and hashtags\n",
    "hashtag_df = pd.DataFrame({'Hashtag':pd.Series(hashtag_keywords).index, 'Frequency':pd.Series(hashtag_keywords).values})\n",
    "print(hashtag_df)\n",
    "print()\n",
    "at_df = pd.DataFrame({'Username':pd.Series(at_keywords).index, 'Frequency':pd.Series(at_keywords).values})\n",
    "print(at_df)"
   ]
  },
  {
   "cell_type": "code",
   "execution_count": null,
   "id": "2a5aa3a8",
   "metadata": {},
   "outputs": [],
   "source": [
    "# Writting each dataframe on a file (csv)\n",
    "hashtag_df.to_csv(\"Twitter_HashTags.csv\",sep = '|',index=False)\n",
    "at_df.to_csv(\"Twitter_Accounts.csv\",sep = '|',index=False)"
   ]
  },
  {
   "cell_type": "code",
   "execution_count": null,
   "id": "dd49088d",
   "metadata": {},
   "outputs": [],
   "source": []
  }
 ],
 "metadata": {
  "kernelspec": {
   "display_name": "Python 3 (ipykernel)",
   "language": "python",
   "name": "python3"
  },
  "language_info": {
   "codemirror_mode": {
    "name": "ipython",
    "version": 3
   },
   "file_extension": ".py",
   "mimetype": "text/x-python",
   "name": "python",
   "nbconvert_exporter": "python",
   "pygments_lexer": "ipython3",
   "version": "3.9.12"
  }
 },
 "nbformat": 4,
 "nbformat_minor": 5
}
